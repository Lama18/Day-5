{
 "cells": [
  {
   "cell_type": "markdown",
   "metadata": {},
   "source": [
    "# Python_Lab_3\n"
   ]
  },
  {
   "cell_type": "markdown",
   "metadata": {},
   "source": [
    "### Task 1\n",
    "- Write a function named **'create_student_records'** that takes a list of tuples. Each tuple contains a student's name and their scores in three subjects. The function should return a list of dictionaries, where each dictionary represents a student with keys: name, subject1, subject2, subject3. Use list comprehension to create the list of dictionaries."
   ]
  },
  {
   "cell_type": "code",
   "execution_count": 27,
   "metadata": {},
   "outputs": [
    {
     "name": "stdout",
     "output_type": "stream",
     "text": [
      "[{'name': 'Lama', 'subject1': 98, 'subject2': 80, 'subject3': 87}, {'name': 'Amal', 'subject1': 90, 'subject2': 91, 'subject3': 70}, {'name': 'gmal', 'subject1': 60, 'subject2': 89, 'subject3': 88}]\n"
     ]
    }
   ],
   "source": [
    "def create_student_records(students_info):\n",
    "    list_dict = [{\"name\": name,\"subject1\": score[0],\"subject2\": score[1],\"subject3\": score[2]} for name, *score in students_info]\n",
    "    return list_dict\n",
    "\n",
    "students_info = [\n",
    "    (\"Lama\", 98, 80, 87),\n",
    "    (\"Amal\", 90, 91, 70),\n",
    "    (\"gmal\",60,89,88)]\n",
    "\n",
    "student_dict = create_student_records(students_info)\n",
    "print(student_dict)"
   ]
  },
  {
   "cell_type": "markdown",
   "metadata": {},
   "source": [
    "### Task 2\n",
    "- Write a function named **'filter_and_sort_students'** that takes the list of dictionaries from Question 1 and returns a sorted list of student names who have an average score of 80 or more across all subjects. Sort the names in alphabetical order."
   ]
  },
  {
   "cell_type": "code",
   "execution_count": 28,
   "metadata": {},
   "outputs": [
    {
     "name": "stdout",
     "output_type": "stream",
     "text": [
      "['Amal', 'Lama']\n"
     ]
    }
   ],
   "source": [
    "def filter_and_sort_students(student_records):\n",
    "    # Filter using a lambda function is easy to make filter function\n",
    "    filtered_average = filter(lambda x: (x['subject1'] + x['subject2'] + x['subject3']) / 3 >= 80,student_records) \n",
    "    sort_student =sorted(x['name'] for x in filtered_average)\n",
    "    return sort_student\n",
    "\n",
    "filter_sort_result=filter_and_sort_students(student_dict)\n",
    "print(filter_sort_result) "
   ]
  },
  {
   "cell_type": "markdown",
   "metadata": {},
   "source": [
    "### Task 3\n",
    "- Write a function named **'get_product_info'** that prompts the user to enter information about a product. The function should ask for the product name, product price, and product quantity. If the user enters an invalid input (e.g., a non-numeric value for the price or quantity), the function should handle the error and prompt the user to enter the value again. Return a dictionary containing the product information."
   ]
  },
  {
   "cell_type": "code",
   "execution_count": 29,
   "metadata": {},
   "outputs": [
    {
     "name": "stdout",
     "output_type": "stream",
     "text": [
      "you entered 0 price cannot be negative or 0. Please enter a valid price.\n",
      "you entered -1 price cannot be negative or 0. Please enter a valid price.\n",
      "j is invalid input for price. Please enter a numeric value.\n",
      "product information {'name': 'pen', 'price': 5.0, 'quantity': 9}\n"
     ]
    }
   ],
   "source": [
    "def get_product_info():\n",
    "    product_dic = {}\n",
    "    #product name\n",
    "    product_dic['name'] = input(\" plese Enter the name of product: \")\n",
    "\n",
    "    # product price\n",
    "    while True:\n",
    "        product_price = input(\"plese Enter the price of product: \")\n",
    "        try:\n",
    "            product_dic['price'] = float(product_price)\n",
    "            if product_dic['price'] <= 0:\n",
    "                print(f\"you entered {product_price} price cannot be negative or 0. Please enter a valid price.\")\n",
    "                continue\n",
    "            break  \n",
    "        except ValueError:#exception \n",
    "            print(f\"{product_price} is invalid input for price. Please enter a numeric value.\")\n",
    "\n",
    "    # product quantity \n",
    "    while True:\n",
    "        product_qunt = input(\"Enter the product quantity: \")\n",
    "        try:\n",
    "            product_dic['quantity'] = int(product_qunt)\n",
    "            if product_dic['quantity'] <= 0:\n",
    "                print(f\"you entered {product_qunt} quantity cannot be negative or 0. Please enter a valid quantity.\")\n",
    "                continue\n",
    "            break \n",
    "        except ValueError:\n",
    "            print(f\"{product_qunt} is invalid input for quantity. Please enter an integer value.\")\n",
    "\n",
    "    return product_dic\n",
    "product = get_product_info()\n",
    "print(\"product information\", product)#dictionary of product"
   ]
  },
  {
   "cell_type": "markdown",
   "metadata": {},
   "source": [
    "### Task 4\n",
    "- Write a function named **'get_even_numbers'** that takes a list of integers and returns a list of even numbers using list comprehension."
   ]
  },
  {
   "cell_type": "code",
   "execution_count": 30,
   "metadata": {},
   "outputs": [
    {
     "name": "stdout",
     "output_type": "stream",
     "text": [
      "[74, 24, 10]\n"
     ]
    }
   ],
   "source": [
    "def get_even_numbers(list_numbers):\n",
    "    return [n for n in list_numbers if n % 2 == 0]\n",
    "\n",
    "list_numbers = [11,74,39,24,33,1,10]\n",
    "list_even = get_even_numbers(list_numbers)\n",
    "print(list_even)\n"
   ]
  },
  {
   "cell_type": "markdown",
   "metadata": {},
   "source": [
    "### Task 5\n",
    "- Write a function named **'pair_elements'** that takes two lists of equal length as parameters and returns a list of tuples, where each tuple contains corresponding elements from the two lists. Use the zip function to achieve this."
   ]
  },
  {
   "cell_type": "code",
   "execution_count": 31,
   "metadata": {},
   "outputs": [
    {
     "name": "stdout",
     "output_type": "stream",
     "text": [
      "[(7, 1), (9, 8), (4, 2), (3, 4)]\n"
     ]
    }
   ],
   "source": [
    "def pair_element(num1, num2):\n",
    "  zipped= list(zip(num1,num2))\n",
    "  return zipped\n",
    "  \n",
    "list_num1 = [7, 9, 4, 3]\n",
    "list_num2 = [1, 8, 2, 4]\n",
    "pair= pair_element(list_num1, list_num2)\n",
    "print(pair)"
   ]
  },
  {
   "cell_type": "markdown",
   "metadata": {},
   "source": [
    "### Task 6\n",
    "- Write a function named **'square_dict_lambda'** that takes a list of integers and returns a dictionary where the keys are the integers and the values are their squares. Use a lambda function within a dictionary comprehension to achieve this."
   ]
  },
  {
   "cell_type": "code",
   "execution_count": 32,
   "metadata": {},
   "outputs": [
    {
     "name": "stdout",
     "output_type": "stream",
     "text": [
      "{10: 100, 2: 4, 7: 49, 4: 16, 16: 256}\n"
     ]
    }
   ],
   "source": [
    "def square_dict_lambda(list_num):\n",
    "    dict_num={x:(lambda x:x**2)(x) for x in list_num}\n",
    "    return dict_num\n",
    "\n",
    "list_num = [10, 2, 7, 4, 16]\n",
    "result = square_dict_lambda(list_num)\n",
    "print(result)\n"
   ]
  }
 ],
 "metadata": {
  "kernelspec": {
   "display_name": "Python 3",
   "language": "python",
   "name": "python3"
  },
  "language_info": {
   "codemirror_mode": {
    "name": "ipython",
    "version": 3
   },
   "file_extension": ".py",
   "mimetype": "text/x-python",
   "name": "python",
   "nbconvert_exporter": "python",
   "pygments_lexer": "ipython3",
   "version": "3.9.12"
  }
 },
 "nbformat": 4,
 "nbformat_minor": 2
}
